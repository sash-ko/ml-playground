{
 "cells": [
  {
   "cell_type": "markdown",
   "id": "66e1f2df",
   "metadata": {},
   "source": [
    "Comparison between `modin` + `ray` cvs file reading performance and `pandas`, `pyarrow` and `dask`"
   ]
  },
  {
   "cell_type": "markdown",
   "id": "7c74dc3a",
   "metadata": {},
   "source": [
    "## Install modin"
   ]
  },
  {
   "cell_type": "code",
   "execution_count": 1,
   "id": "40cffb1e",
   "metadata": {
    "hide_input": false,
    "scrolled": true
   },
   "outputs": [],
   "source": [
    "# !pip install 'modin[ray]'"
   ]
  },
  {
   "cell_type": "code",
   "execution_count": 2,
   "id": "fd733b2e",
   "metadata": {},
   "outputs": [],
   "source": [
    "# !wget https://s3.amazonaws.com/nyc-tlc/trip+data/yellow_tripdata_2020-01.csv"
   ]
  },
  {
   "cell_type": "markdown",
   "id": "ef140172",
   "metadata": {},
   "source": [
    "Number of CPUs"
   ]
  },
  {
   "cell_type": "code",
   "execution_count": 3,
   "id": "1775e4cd",
   "metadata": {},
   "outputs": [
    {
     "name": "stdout",
     "output_type": "stream",
     "text": [
      "CPUs: 4\n"
     ]
    }
   ],
   "source": [
    "import os\n",
    "print(f\"CPUs: {os.cpu_count()}\")"
   ]
  },
  {
   "cell_type": "markdown",
   "id": "a0cfba6f",
   "metadata": {},
   "source": [
    "## Init ray"
   ]
  },
  {
   "cell_type": "code",
   "execution_count": 4,
   "id": "d85b44e0",
   "metadata": {},
   "outputs": [
    {
     "name": "stderr",
     "output_type": "stream",
     "text": [
      "2021-06-26 11:36:10,157\tINFO services.py:1315 -- View the Ray dashboard at \u001b[1m\u001b[32mhttp://127.0.0.1:8265\u001b[39m\u001b[22m\n",
      "2021-06-26 11:36:10,162\tINFO services.py:1797 -- object_store_memory is not verified when plasma_directory is set.\n"
     ]
    },
    {
     "data": {
      "text/plain": [
       "{'node_ip_address': '192.168.0.77',\n",
       " 'raylet_ip_address': '192.168.0.77',\n",
       " 'redis_address': '192.168.0.77:6379',\n",
       " 'object_store_address': '/tmp/ray/session_2021-06-26_11-36-07_986819_93941/sockets/plasma_store',\n",
       " 'raylet_socket_name': '/tmp/ray/session_2021-06-26_11-36-07_986819_93941/sockets/raylet',\n",
       " 'webui_url': '127.0.0.1:8265',\n",
       " 'session_dir': '/tmp/ray/session_2021-06-26_11-36-07_986819_93941',\n",
       " 'metrics_export_port': 58071,\n",
       " 'node_id': '59c065d0cabeb0873519919b179758ac9d94e30a13b13f0416129393'}"
      ]
     },
     "execution_count": 4,
     "metadata": {},
     "output_type": "execute_result"
    }
   ],
   "source": [
    "import ray\n",
    "\n",
    "ray.init(_plasma_directory=\"/tmp\")"
   ]
  },
  {
   "cell_type": "markdown",
   "id": "75b1a8d4",
   "metadata": {},
   "source": [
    "## Import all libs"
   ]
  },
  {
   "cell_type": "code",
   "execution_count": 5,
   "id": "b5b24daa",
   "metadata": {},
   "outputs": [],
   "source": [
    "import modin.pandas as mpd\n",
    "import pandas as pd\n",
    "import pyarrow.csv as csv\n",
    "import dask.dataframe as dd"
   ]
  },
  {
   "cell_type": "code",
   "execution_count": 6,
   "id": "05848d1c",
   "metadata": {},
   "outputs": [],
   "source": [
    "file_name = 'yellow_tripdata_2020-01.csv'"
   ]
  },
  {
   "cell_type": "markdown",
   "id": "6044b4e3",
   "metadata": {},
   "source": [
    "## modin"
   ]
  },
  {
   "cell_type": "code",
   "execution_count": 7,
   "id": "cf1ac465",
   "metadata": {},
   "outputs": [
    {
     "name": "stdout",
     "output_type": "stream",
     "text": [
      "12 s ± 1.69 s per loop (mean ± std. dev. of 7 runs, 1 loop each)\n"
     ]
    }
   ],
   "source": [
    "%%timeit\n",
    "\n",
    "df = mpd.read_csv(file_name)"
   ]
  },
  {
   "cell_type": "markdown",
   "id": "0eed2dd0",
   "metadata": {},
   "source": [
    "## pandas"
   ]
  },
  {
   "cell_type": "code",
   "execution_count": 8,
   "id": "518cec58",
   "metadata": {},
   "outputs": [
    {
     "name": "stderr",
     "output_type": "stream",
     "text": [
      "DtypeWarning: Columns (6) have mixed types.Specify dtype option on import or set low_memory=False.\n",
      "DtypeWarning: Columns (6) have mixed types.Specify dtype option on import or set low_memory=False.\n"
     ]
    },
    {
     "name": "stdout",
     "output_type": "stream",
     "text": [
      "13 s ± 1.34 s per loop (mean ± std. dev. of 7 runs, 1 loop each)\n"
     ]
    }
   ],
   "source": [
    "%%timeit\n",
    "\n",
    "df = pd.read_csv(file_name)"
   ]
  },
  {
   "cell_type": "markdown",
   "id": "b3096c93",
   "metadata": {},
   "source": [
    "## pyarrow"
   ]
  },
  {
   "cell_type": "code",
   "execution_count": 9,
   "id": "c589b24f",
   "metadata": {},
   "outputs": [
    {
     "name": "stdout",
     "output_type": "stream",
     "text": [
      "4.68 s ± 416 ms per loop (mean ± std. dev. of 7 runs, 1 loop each)\n"
     ]
    }
   ],
   "source": [
    "%%timeit\n",
    "\n",
    "table = csv.read_csv(file_name)\n",
    "df = table.to_pandas()"
   ]
  },
  {
   "cell_type": "markdown",
   "id": "0c887ca1",
   "metadata": {},
   "source": [
    "## dask"
   ]
  },
  {
   "cell_type": "code",
   "execution_count": 10,
   "id": "4b37bdf2",
   "metadata": {},
   "outputs": [
    {
     "name": "stdout",
     "output_type": "stream",
     "text": [
      "9.71 ms ± 158 µs per loop (mean ± std. dev. of 7 runs, 100 loops each)\n"
     ]
    }
   ],
   "source": [
    "%%timeit\n",
    "\n",
    "# Not fair comparison since it returns dask dataframe not pandas.DataFrame\n",
    "# like all other methods\n",
    "df = dd.read_csv(file_name)"
   ]
  }
 ],
 "metadata": {
  "kernelspec": {
   "display_name": "Python 3",
   "language": "python",
   "name": "python3"
  },
  "language_info": {
   "codemirror_mode": {
    "name": "ipython",
    "version": 3
   },
   "file_extension": ".py",
   "mimetype": "text/x-python",
   "name": "python",
   "nbconvert_exporter": "python",
   "pygments_lexer": "ipython3",
   "version": "3.9.5"
  },
  "toc": {
   "base_numbering": 1,
   "nav_menu": {},
   "number_sections": false,
   "sideBar": true,
   "skip_h1_title": false,
   "title_cell": "Table of Contents",
   "title_sidebar": "Contents",
   "toc_cell": false,
   "toc_position": {},
   "toc_section_display": true,
   "toc_window_display": true
  },
  "varInspector": {
   "cols": {
    "lenName": 16,
    "lenType": 16,
    "lenVar": 40
   },
   "kernels_config": {
    "python": {
     "delete_cmd_postfix": "",
     "delete_cmd_prefix": "del ",
     "library": "var_list.py",
     "varRefreshCmd": "print(var_dic_list())"
    },
    "r": {
     "delete_cmd_postfix": ") ",
     "delete_cmd_prefix": "rm(",
     "library": "var_list.r",
     "varRefreshCmd": "cat(var_dic_list()) "
    }
   },
   "types_to_exclude": [
    "module",
    "function",
    "builtin_function_or_method",
    "instance",
    "_Feature"
   ],
   "window_display": false
  }
 },
 "nbformat": 4,
 "nbformat_minor": 5
}
