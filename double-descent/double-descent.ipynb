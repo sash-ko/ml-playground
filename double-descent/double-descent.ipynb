{
 "cells": [
  {
   "cell_type": "code",
   "execution_count": 27,
   "metadata": {},
   "outputs": [],
   "source": [
    "%matplotlib inline\n",
    "\n",
    "import matplotlib.pyplot as plt\n",
    "import numpy as np\n",
    "import pandas as pd"
   ]
  },
  {
   "cell_type": "code",
   "execution_count": 61,
   "metadata": {},
   "outputs": [],
   "source": [
    "import sklearn.datasets\n",
    "\n",
    "df_data, sr_target = sklearn.datasets.fetch_california_housing(\n",
    "    return_X_y=True, as_frame=True)"
   ]
  },
  {
   "cell_type": "code",
   "execution_count": 10,
   "metadata": {},
   "outputs": [
    {
     "data": {
      "text/html": [
       "<div>\n",
       "<style scoped>\n",
       "    .dataframe tbody tr th:only-of-type {\n",
       "        vertical-align: middle;\n",
       "    }\n",
       "\n",
       "    .dataframe tbody tr th {\n",
       "        vertical-align: top;\n",
       "    }\n",
       "\n",
       "    .dataframe thead th {\n",
       "        text-align: right;\n",
       "    }\n",
       "</style>\n",
       "<table border=\"1\" class=\"dataframe\">\n",
       "  <thead>\n",
       "    <tr style=\"text-align: right;\">\n",
       "      <th></th>\n",
       "      <th>MedInc</th>\n",
       "      <th>HouseAge</th>\n",
       "      <th>AveRooms</th>\n",
       "      <th>AveBedrms</th>\n",
       "      <th>Population</th>\n",
       "      <th>AveOccup</th>\n",
       "      <th>Latitude</th>\n",
       "      <th>Longitude</th>\n",
       "    </tr>\n",
       "  </thead>\n",
       "  <tbody>\n",
       "    <tr>\n",
       "      <th>0</th>\n",
       "      <td>8.3252</td>\n",
       "      <td>41.0</td>\n",
       "      <td>6.984127</td>\n",
       "      <td>1.023810</td>\n",
       "      <td>322.0</td>\n",
       "      <td>2.555556</td>\n",
       "      <td>37.88</td>\n",
       "      <td>-122.23</td>\n",
       "    </tr>\n",
       "    <tr>\n",
       "      <th>1</th>\n",
       "      <td>8.3014</td>\n",
       "      <td>21.0</td>\n",
       "      <td>6.238137</td>\n",
       "      <td>0.971880</td>\n",
       "      <td>2401.0</td>\n",
       "      <td>2.109842</td>\n",
       "      <td>37.86</td>\n",
       "      <td>-122.22</td>\n",
       "    </tr>\n",
       "    <tr>\n",
       "      <th>2</th>\n",
       "      <td>7.2574</td>\n",
       "      <td>52.0</td>\n",
       "      <td>8.288136</td>\n",
       "      <td>1.073446</td>\n",
       "      <td>496.0</td>\n",
       "      <td>2.802260</td>\n",
       "      <td>37.85</td>\n",
       "      <td>-122.24</td>\n",
       "    </tr>\n",
       "    <tr>\n",
       "      <th>3</th>\n",
       "      <td>5.6431</td>\n",
       "      <td>52.0</td>\n",
       "      <td>5.817352</td>\n",
       "      <td>1.073059</td>\n",
       "      <td>558.0</td>\n",
       "      <td>2.547945</td>\n",
       "      <td>37.85</td>\n",
       "      <td>-122.25</td>\n",
       "    </tr>\n",
       "    <tr>\n",
       "      <th>4</th>\n",
       "      <td>3.8462</td>\n",
       "      <td>52.0</td>\n",
       "      <td>6.281853</td>\n",
       "      <td>1.081081</td>\n",
       "      <td>565.0</td>\n",
       "      <td>2.181467</td>\n",
       "      <td>37.85</td>\n",
       "      <td>-122.25</td>\n",
       "    </tr>\n",
       "  </tbody>\n",
       "</table>\n",
       "</div>"
      ],
      "text/plain": [
       "   MedInc  HouseAge  AveRooms  AveBedrms  Population  AveOccup  Latitude  \\\n",
       "0  8.3252      41.0  6.984127   1.023810       322.0  2.555556     37.88   \n",
       "1  8.3014      21.0  6.238137   0.971880      2401.0  2.109842     37.86   \n",
       "2  7.2574      52.0  8.288136   1.073446       496.0  2.802260     37.85   \n",
       "3  5.6431      52.0  5.817352   1.073059       558.0  2.547945     37.85   \n",
       "4  3.8462      52.0  6.281853   1.081081       565.0  2.181467     37.85   \n",
       "\n",
       "   Longitude  \n",
       "0    -122.23  \n",
       "1    -122.22  \n",
       "2    -122.24  \n",
       "3    -122.25  \n",
       "4    -122.25  "
      ]
     },
     "execution_count": 10,
     "metadata": {},
     "output_type": "execute_result"
    }
   ],
   "source": [
    "df_data.head()"
   ]
  },
  {
   "cell_type": "code",
   "execution_count": 62,
   "metadata": {},
   "outputs": [],
   "source": [
    "from sklearn.model_selection import train_test_split\n",
    "\n",
    "# sr_target = np.log1p(sr_target)\n",
    "\n",
    "X_train, X_test, y_train, y_test = train_test_split(df_data, sr_target)"
   ]
  },
  {
   "cell_type": "code",
   "execution_count": 52,
   "metadata": {},
   "outputs": [],
   "source": [
    "from sklearn.ensemble import RandomForestRegressor\n",
    "from sklearn.metrics import mean_squared_error, mean_absolute_error\n",
    "import xgboost as xgb"
   ]
  },
  {
   "cell_type": "code",
   "execution_count": 67,
   "metadata": {},
   "outputs": [
    {
     "name": "stdout",
     "output_type": "stream",
     "text": [
      "CPU times: user 17min 59s, sys: 14.2 s, total: 18min 14s\n",
      "Wall time: 6min 2s\n"
     ]
    }
   ],
   "source": [
    "%%time\n",
    "\n",
    "train_errors = []\n",
    "test_errors = []\n",
    "\n",
    "for n_estimators in np.linspace(1, 5000, 10).astype(int):\n",
    "    model = xgb.XGBRFRegressor(n_estimators=n_estimators)\n",
    "#     model = RandomForestRegressor(n_estimators=n_estimators, n_jobs=-1)\n",
    "    model.fit(X_train, y_train)\n",
    "    \n",
    "    y_pred = model.predict(X_test)\n",
    "    err = mean_squared_error(y_test, y_pred)\n",
    "#     err = mean_absolute_error(y_test, y_pred)\n",
    "    train_errors.append(err)\n",
    "    \n",
    "    model = xgb.XGBRFRegressor(n_estimators=n_estimators)\n",
    "#     model = RandomForestRegressor(n_estimators=n_estimators, n_jobs=-1)\n",
    "    model.fit(X_test, y_test)\n",
    "    \n",
    "    y_pred = model.predict(X_test)\n",
    "    err = mean_squared_error(y_test, y_pred)\n",
    "#     err = mean_absolute_error(y_test, y_pred)\n",
    "    test_errors.append(err)\n",
    "    \n",
    "pd.Series(train_errors).plot();\n",
    "pd.Series(test_errors).plot();"
   ]
  },
  {
   "cell_type": "code",
   "execution_count": 68,
   "metadata": {},
   "outputs": [
    {
     "data": {
      "image/png": "[encoded data removed]",
      "text/plain": [
       "<Figure size 432x288 with 1 Axes>"
      ]
     },
     "metadata": {
      "needs_background": "light"
     },
     "output_type": "display_data"
    }
   ],
   "source": []
  },
  {
   "cell_type": "code",
   "execution_count": 70,
   "metadata": {},
   "outputs": [
    {
     "name": "stdout",
     "output_type": "stream",
     "text": [
      "CPU times: user 54.3 s, sys: 1.16 s, total: 55.4 s\n",
      "Wall time: 18.1 s\n"
     ]
    },
    {
     "data": {
      "text/plain": [
       "<AxesSubplot:>"
      ]
     },
     "execution_count": 70,
     "metadata": {},
     "output_type": "execute_result"
    },
    {
     "data": {
      "image/png": "[encoded data removed]",
      "text/plain": [
       "<Figure size 432x288 with 1 Axes>"
      ]
     },
     "metadata": {
      "needs_background": "light"
     },
     "output_type": "display_data"
    }
   ],
   "source": [
    "%%time\n",
    "\n",
    "train_errors = []\n",
    "test_errors = []\n",
    "\n",
    "# for n_features in np.linspace(1, 8, 10).astype(int):\n",
    "for n_features in range(1, 8):\n",
    "    model = RandomForestRegressor(max_features=n_features, n_jobs=-1)\n",
    "    model.fit(X_train, y_train)\n",
    "    \n",
    "    y_pred = model.predict(X_test)\n",
    "    err = mean_squared_error(y_test, y_pred)\n",
    "    train_errors.append(err)\n",
    "    \n",
    "    model = RandomForestRegressor(max_features=n_features, n_jobs=-1)\n",
    "    model.fit(X_test, y_test)\n",
    "    \n",
    "    y_pred = model.predict(X_test)\n",
    "    err = mean_squared_error(y_test, y_pred)\n",
    "    test_errors.append(err)\n",
    "    \n",
    "pd.Series(train_errors).plot();\n",
    "pd.Series(test_errors).plot();"
   ]
  },
  {
   "cell_type": "code",
   "execution_count": null,
   "metadata": {},
   "outputs": [],
   "source": []
  },
  {
   "cell_type": "code",
   "execution_count": 171,
   "metadata": {},
   "outputs": [],
   "source": [
    "from sklearn.datasets import load_digits\n",
    "\n",
    "# df_data, sr_target = load_digits(return_X_y=True, as_frame=True)\n",
    "\n",
    "from sklearn.datasets import make_classification\n",
    "\n",
    "df_data, sr_target = make_classification(n_samples=10000, n_features=100, n_classes=5, n_informative=5)\n",
    "# df_data, sr_target = make_classification(n_samples=1000, n_features=100)\n",
    "X_train, X_test, y_train, y_test = train_test_split(df_data, sr_target)"
   ]
  },
  {
   "cell_type": "code",
   "execution_count": 172,
   "metadata": {},
   "outputs": [
    {
     "name": "stdout",
     "output_type": "stream",
     "text": [
      "CPU times: user 15.1 s, sys: 78.1 ms, total: 15.1 s\n",
      "Wall time: 4.41 s\n"
     ]
    },
    {
     "data": {
      "text/plain": [
       "0.8588372720208619"
      ]
     },
     "execution_count": 172,
     "metadata": {},
     "output_type": "execute_result"
    }
   ],
   "source": [
    "%%time\n",
    "\n",
    "from sklearn.ensemble import RandomForestClassifier\n",
    "from sklearn.metrics import log_loss\n",
    "\n",
    "model = RandomForestClassifier(max_features=20, n_jobs=-1)\n",
    "model.fit(X_train, y_train)\n",
    "\n",
    "y_pred = model.predict_proba(X_test)\n",
    "log_loss(y_test, y_pred)"
   ]
  },
  {
   "cell_type": "code",
   "execution_count": 173,
   "metadata": {},
   "outputs": [
    {
     "name": "stdout",
     "output_type": "stream",
     "text": [
      "CPU times: user 1h 18min 45s, sys: 19.5 s, total: 1h 19min 4s\n",
      "Wall time: 23min 12s\n"
     ]
    },
    {
     "data": {
      "text/plain": [
       "<AxesSubplot:>"
      ]
     },
     "execution_count": 173,
     "metadata": {},
     "output_type": "execute_result"
    },
    {
     "data": {
      "image/png": "[encoded data removed]",
      "text/plain": [
       "<Figure size 432x288 with 1 Axes>"
      ]
     },
     "metadata": {
      "needs_background": "light"
     },
     "output_type": "display_data"
    }
   ],
   "source": [
    "%%time\n",
    "\n",
    "train_errors = []\n",
    "test_errors = []\n",
    "index = []\n",
    "\n",
    "for n_features in np.linspace(1, 100, 20).astype(int):\n",
    "# for n_estimators in np.linspace(1, 500, 10).astype(int):\n",
    "#     n_features = None\n",
    "    n_estimators = 500\n",
    "    \n",
    "    print(n_estimators, n_features)\n",
    "    \n",
    "    model = RandomForestClassifier(n_estimators=n_estimators, max_features=n_features, n_jobs=-1)\n",
    "    model.fit(X_train, y_train)\n",
    "    \n",
    "    y_pred = model.predict_proba(X_test)\n",
    "    err = log_loss(y_test, y_pred)\n",
    "    train_errors.append(err)\n",
    "    \n",
    "    model = RandomForestClassifier(n_estimators=n_estimators, max_features=n_features, n_jobs=-1)\n",
    "    model.fit(X_test, y_test)\n",
    "    \n",
    "    y_pred = model.predict_proba(X_test)\n",
    "    err = log_loss(y_test, y_pred)\n",
    "    test_errors.append(err)\n",
    "    \n",
    "    index.append(n_features)\n",
    "    \n",
    "pd.Series(train_errors, index=index).plot();\n",
    "pd.Series(test_errors, index=index).plot();"
   ]
  },
  {
   "cell_type": "code",
   "execution_count": 233,
   "metadata": {},
   "outputs": [],
   "source": [
    "import pickle\n",
    "\n",
    "def unpickle(file):\n",
    "    with open(file, 'rb') as fo:\n",
    "        batch = pickle.load(fo, encoding='bytes')\n",
    "    return batch\n",
    "\n",
    "batch_1 = unpickle(f'{cifar_data_path}/cifar-10-batches-py/data_batch_1')\n",
    "batch_2 = unpickle(f'{cifar_data_path}/cifar-10-batches-py/data_batch_2')\n",
    "batch_3 = unpickle(f'{cifar_data_path}/cifar-10-batches-py/data_batch_3')\n",
    "batch_4 = unpickle(f'{cifar_data_path}/cifar-10-batches-py/data_batch_4')\n",
    "batch_5 = unpickle(f'{cifar_data_path}/cifar-10-batches-py/data_batch_5')\n",
    "\n",
    "test_batch = unpickle(f'{cifar_data_path}/cifar-10-batches-py/test_batch')\n",
    "\n",
    "df_test = pd.DataFrame(test_batch[b'data'])\n",
    "df_batch_1 = pd.DataFrame(batch_1[b'data'])\n",
    "df_batch_2 = pd.DataFrame(batch_2[b'data'])\n",
    "df_batch_3 = pd.DataFrame(batch_3[b'data'])\n",
    "df_batch_4 = pd.DataFrame(batch_4[b'data'])\n",
    "df_batch_5 = pd.DataFrame(batch_5[b'data'])\n",
    "\n",
    "sf_test = pd.Series(test_batch[b'labels'])\n",
    "sf_batch_1 = pd.Series(batch_1[b'labels'])\n",
    "sf_batch_2 = pd.Series(batch_2[b'labels'])\n",
    "sf_batch_3 = pd.Series(batch_3[b'labels'])\n",
    "sf_batch_4 = pd.Series(batch_4[b'labels'])\n",
    "sf_batch_5 = pd.Series(batch_5[b'labels'])"
   ]
  },
  {
   "cell_type": "code",
   "execution_count": 190,
   "metadata": {},
   "outputs": [
    {
     "data": {
      "text/html": [
       "<div>\n",
       "<style scoped>\n",
       "    .dataframe tbody tr th:only-of-type {\n",
       "        vertical-align: middle;\n",
       "    }\n",
       "\n",
       "    .dataframe tbody tr th {\n",
       "        vertical-align: top;\n",
       "    }\n",
       "\n",
       "    .dataframe thead th {\n",
       "        text-align: right;\n",
       "    }\n",
       "</style>\n",
       "<table border=\"1\" class=\"dataframe\">\n",
       "  <thead>\n",
       "    <tr style=\"text-align: right;\">\n",
       "      <th></th>\n",
       "      <th>0</th>\n",
       "      <th>1</th>\n",
       "      <th>2</th>\n",
       "      <th>3</th>\n",
       "      <th>4</th>\n",
       "      <th>5</th>\n",
       "      <th>6</th>\n",
       "      <th>7</th>\n",
       "      <th>8</th>\n",
       "      <th>9</th>\n",
       "      <th>...</th>\n",
       "      <th>3062</th>\n",
       "      <th>3063</th>\n",
       "      <th>3064</th>\n",
       "      <th>3065</th>\n",
       "      <th>3066</th>\n",
       "      <th>3067</th>\n",
       "      <th>3068</th>\n",
       "      <th>3069</th>\n",
       "      <th>3070</th>\n",
       "      <th>3071</th>\n",
       "    </tr>\n",
       "  </thead>\n",
       "  <tbody>\n",
       "    <tr>\n",
       "      <th>0</th>\n",
       "      <td>255</td>\n",
       "      <td>252</td>\n",
       "      <td>253</td>\n",
       "      <td>250</td>\n",
       "      <td>238</td>\n",
       "      <td>233</td>\n",
       "      <td>245</td>\n",
       "      <td>241</td>\n",
       "      <td>232</td>\n",
       "      <td>238</td>\n",
       "      <td>...</td>\n",
       "      <td>254</td>\n",
       "      <td>253</td>\n",
       "      <td>253</td>\n",
       "      <td>252</td>\n",
       "      <td>252</td>\n",
       "      <td>231</td>\n",
       "      <td>172</td>\n",
       "      <td>173</td>\n",
       "      <td>231</td>\n",
       "      <td>248</td>\n",
       "    </tr>\n",
       "    <tr>\n",
       "      <th>1</th>\n",
       "      <td>127</td>\n",
       "      <td>126</td>\n",
       "      <td>127</td>\n",
       "      <td>127</td>\n",
       "      <td>128</td>\n",
       "      <td>128</td>\n",
       "      <td>128</td>\n",
       "      <td>128</td>\n",
       "      <td>129</td>\n",
       "      <td>130</td>\n",
       "      <td>...</td>\n",
       "      <td>108</td>\n",
       "      <td>103</td>\n",
       "      <td>97</td>\n",
       "      <td>95</td>\n",
       "      <td>88</td>\n",
       "      <td>81</td>\n",
       "      <td>89</td>\n",
       "      <td>102</td>\n",
       "      <td>108</td>\n",
       "      <td>112</td>\n",
       "    </tr>\n",
       "    <tr>\n",
       "      <th>2</th>\n",
       "      <td>116</td>\n",
       "      <td>64</td>\n",
       "      <td>19</td>\n",
       "      <td>29</td>\n",
       "      <td>36</td>\n",
       "      <td>40</td>\n",
       "      <td>57</td>\n",
       "      <td>143</td>\n",
       "      <td>173</td>\n",
       "      <td>83</td>\n",
       "      <td>...</td>\n",
       "      <td>59</td>\n",
       "      <td>32</td>\n",
       "      <td>17</td>\n",
       "      <td>10</td>\n",
       "      <td>9</td>\n",
       "      <td>10</td>\n",
       "      <td>8</td>\n",
       "      <td>7</td>\n",
       "      <td>6</td>\n",
       "      <td>5</td>\n",
       "    </tr>\n",
       "    <tr>\n",
       "      <th>3</th>\n",
       "      <td>205</td>\n",
       "      <td>213</td>\n",
       "      <td>235</td>\n",
       "      <td>232</td>\n",
       "      <td>112</td>\n",
       "      <td>98</td>\n",
       "      <td>95</td>\n",
       "      <td>80</td>\n",
       "      <td>98</td>\n",
       "      <td>224</td>\n",
       "      <td>...</td>\n",
       "      <td>25</td>\n",
       "      <td>23</td>\n",
       "      <td>25</td>\n",
       "      <td>25</td>\n",
       "      <td>26</td>\n",
       "      <td>23</td>\n",
       "      <td>23</td>\n",
       "      <td>24</td>\n",
       "      <td>25</td>\n",
       "      <td>23</td>\n",
       "    </tr>\n",
       "    <tr>\n",
       "      <th>4</th>\n",
       "      <td>189</td>\n",
       "      <td>184</td>\n",
       "      <td>181</td>\n",
       "      <td>186</td>\n",
       "      <td>191</td>\n",
       "      <td>177</td>\n",
       "      <td>186</td>\n",
       "      <td>167</td>\n",
       "      <td>147</td>\n",
       "      <td>161</td>\n",
       "      <td>...</td>\n",
       "      <td>77</td>\n",
       "      <td>75</td>\n",
       "      <td>77</td>\n",
       "      <td>74</td>\n",
       "      <td>75</td>\n",
       "      <td>76</td>\n",
       "      <td>72</td>\n",
       "      <td>76</td>\n",
       "      <td>77</td>\n",
       "      <td>72</td>\n",
       "    </tr>\n",
       "  </tbody>\n",
       "</table>\n",
       "<p>5 rows × 3072 columns</p>\n",
       "</div>"
      ],
      "text/plain": [
       "   0     1     2     3     4     5     6     7     8     9     ...  3062  \\\n",
       "0   255   252   253   250   238   233   245   241   232   238  ...   254   \n",
       "1   127   126   127   127   128   128   128   128   129   130  ...   108   \n",
       "2   116    64    19    29    36    40    57   143   173    83  ...    59   \n",
       "3   205   213   235   232   112    98    95    80    98   224  ...    25   \n",
       "4   189   184   181   186   191   177   186   167   147   161  ...    77   \n",
       "\n",
       "   3063  3064  3065  3066  3067  3068  3069  3070  3071  \n",
       "0   253   253   252   252   231   172   173   231   248  \n",
       "1   103    97    95    88    81    89   102   108   112  \n",
       "2    32    17    10     9    10     8     7     6     5  \n",
       "3    23    25    25    26    23    23    24    25    23  \n",
       "4    75    77    74    75    76    72    76    77    72  \n",
       "\n",
       "[5 rows x 3072 columns]"
      ]
     },
     "execution_count": 190,
     "metadata": {},
     "output_type": "execute_result"
    }
   ],
   "source": [
    "df_batch_5.head()"
   ]
  },
  {
   "cell_type": "code",
   "execution_count": 192,
   "metadata": {},
   "outputs": [
    {
     "data": {
      "text/plain": [
       "0    6\n",
       "1    9\n",
       "2    9\n",
       "3    4\n",
       "4    1\n",
       "dtype: int64"
      ]
     },
     "execution_count": 192,
     "metadata": {},
     "output_type": "execute_result"
    }
   ],
   "source": [
    "sf_batch_1.head()"
   ]
  },
  {
   "cell_type": "code",
   "execution_count": 228,
   "metadata": {},
   "outputs": [],
   "source": [
    "# use only small parts of columns\n",
    "num_columns = 100\n",
    "columns = np.random.choice(df_batch_1.columns.values, num_columns, replace=False)"
   ]
  },
  {
   "cell_type": "code",
   "execution_count": 229,
   "metadata": {},
   "outputs": [
    {
     "name": "stdout",
     "output_type": "stream",
     "text": [
      "[20:41:48] WARNING: /Users/travis/build/dmlc/xgboost/src/learner.cc:1061: Starting in XGBoost 1.3.0, the default evaluation metric used with the objective 'multi:softprob' was changed from 'merror' to 'mlogloss'. Explicitly set eval_metric if you'd like to restore the old behavior.\n",
      "CPU times: user 2min 3s, sys: 539 ms, total: 2min 3s\n",
      "Wall time: 35.8 s\n"
     ]
    },
    {
     "data": {
      "text/plain": [
       "XGBClassifier(base_score=0.5, booster='gbtree', colsample_bylevel=1,\n",
       "              colsample_bynode=1, colsample_bytree=1, gamma=0, gpu_id=-1,\n",
       "              importance_type='gain', interaction_constraints='',\n",
       "              learning_rate=0.300000012, max_delta_step=0, max_depth=6,\n",
       "              min_child_weight=1, missing=nan, monotone_constraints='()',\n",
       "              n_estimators=100, n_jobs=4, num_parallel_tree=1,\n",
       "              objective='multi:softprob', random_state=0, reg_alpha=0,\n",
       "              reg_lambda=1, scale_pos_weight=None, subsample=1,\n",
       "              tree_method='exact', use_label_encoder=False,\n",
       "              validate_parameters=1, verbosity=None)"
      ]
     },
     "execution_count": 229,
     "metadata": {},
     "output_type": "execute_result"
    }
   ],
   "source": [
    "%%time \n",
    "\n",
    "model = xgb.XGBClassifier(use_label_encoder=False)\n",
    "model.fit(df_batch_1[columns], sf_batch_1);"
   ]
  },
  {
   "cell_type": "code",
   "execution_count": 232,
   "metadata": {},
   "outputs": [
    {
     "data": {
      "text/plain": [
       "1.6805905150850768"
      ]
     },
     "execution_count": 232,
     "metadata": {},
     "output_type": "execute_result"
    }
   ],
   "source": [
    "y_pred = model.predict_proba(df_test[columns])\n",
    "log_loss(sf_test, y_pred)"
   ]
  },
  {
   "cell_type": "markdown",
   "metadata": {},
   "source": []
  },
  {
   "cell_type": "code",
   "execution_count": null,
   "metadata": {},
   "outputs": [],
   "source": []
  }
 ],
 "metadata": {
  "kernelspec": {
   "display_name": "Python 3",
   "language": "python",
   "name": "python3"
  },
  "language_info": {
   "codemirror_mode": {
    "name": "ipython",
    "version": 3
   },
   "file_extension": ".py",
   "mimetype": "text/x-python",
   "name": "python",
   "nbconvert_exporter": "python",
   "pygments_lexer": "ipython3",
   "version": "3.7.6"
  },
  "toc": {
   "base_numbering": 1,
   "nav_menu": {},
   "number_sections": true,
   "sideBar": true,
   "skip_h1_title": false,
   "title_cell": "Table of Contents",
   "title_sidebar": "Contents",
   "toc_cell": false,
   "toc_position": {},
   "toc_section_display": true,
   "toc_window_display": false
  },
  "varInspector": {
   "cols": {
    "lenName": 16,
    "lenType": 16,
    "lenVar": 40
   },
   "kernels_config": {
    "python": {
     "delete_cmd_postfix": "",
     "delete_cmd_prefix": "del ",
     "library": "var_list.py",
     "varRefreshCmd": "print(var_dic_list())"
    },
    "r": {
     "delete_cmd_postfix": ") ",
     "delete_cmd_prefix": "rm(",
     "library": "var_list.r",
     "varRefreshCmd": "cat(var_dic_list()) "
    }
   },
   "types_to_exclude": [
    "module",
    "function",
    "builtin_function_or_method",
    "instance",
    "_Feature"
   ],
   "window_display": false
  }
 },
 "nbformat": 4,
 "nbformat_minor": 4
}
